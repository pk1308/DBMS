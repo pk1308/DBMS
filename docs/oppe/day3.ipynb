{
 "cells": [
  {
   "cell_type": "code",
   "execution_count": null,
   "metadata": {},
   "outputs": [],
   "source": []
  },
  {
   "cell_type": "markdown",
   "metadata": {},
   "source": [
    "-- Write a query to obtain the natural join between the tables, students and departments.\n",
    "-- (Database: LIS)\n",
    "\n",
    "select * from students natural join departments "
   ]
  },
  {
   "cell_type": "markdown",
   "metadata": {},
   "source": [
    "-- Find details of those instructors of the Accounting department who have more salary\n",
    "-- than at least one instructor of the Psychology department. (Database: University)\n",
    "\n",
    "select * from instructor a where  a.dept_name = 'Accounting' and a.salary > \n",
    "any (select p.salary from instructor p where p.dept_name = 'Psychology')"
   ]
  },
  {
   "cell_type": "markdown",
   "metadata": {},
   "source": [
    "-- Write a SQL statement to find out the manager’s date of birth(dob) of the team for\n",
    "-- which “Shlok” plays. (Database: FLIS)\n",
    "\n",
    "select dob from managers where team_id = (select team_id from players where name = 'Shlok')"
   ]
  },
  {
   "cell_type": "code",
   "execution_count": 6,
   "metadata": {},
   "outputs": [
    {
     "name": "stdout",
     "output_type": "stream",
     "text": [
      "<class 'list'> [('T0001',)] <class 'tuple'>\n",
      "(datetime.date(1990, 8, 23),)\n"
     ]
    }
   ],
   "source": [
    "import psycopg2\n",
    "\n",
    "conn = None \n",
    "try:\n",
    "    conn = psycopg2.connect(database= \"FLIS\" , user= \"myuser\" , \n",
    "                            password= \"MYPASS\" , host = '127.0.0.1',\n",
    "                            port = \"5432\") \n",
    "    statement_1 = \"select team_id from players where name = 'Shlok'\"\n",
    "    curr = conn.cursor()\n",
    "    curr.execute(statement_1)\n",
    "    result_1 =  curr.fetchmany()\n",
    "    print(type(result_1), result_1 , type(result_1[0]))\n",
    "    statement_2 = f\"select dob from managers where team_id = '{result_1[0][0]}'\"\n",
    "\n",
    "    curr.execute(statement_2)\n",
    "    result = curr.fetchone()\n",
    "    print(result)\n",
    "    \n",
    "\n",
    "except Exception as e:\n",
    "    print(e)\n",
    "if conn is not None:\n",
    "    conn.close()"
   ]
  },
  {
   "cell_type": "markdown",
   "metadata": {},
   "source": [
    "-- Write a SQL statement to find out match number(match num) played in the playground\n",
    "-- “Emirates Stadium”. (Database: FLIS)\n",
    "\n",
    "\n",
    "select match_num from matches where host_team_id = (select team_id from teams where playground = 'Emirates Stadium')\n",
    "\n",
    "SELECT match_num\n",
    "FROM matches\n",
    "WHERE host_team_id = ANY (SELECT team_id\n",
    "FROM teams\n",
    "WHERE playground = 'Emirates Stadium')"
   ]
  },
  {
   "cell_type": "markdown",
   "metadata": {},
   "source": [
    "\n",
    "-- Find the name, player id, date of birth and city of all players who played for team\n",
    "-- ‘Rainbow’. (Database: FLIS)\n",
    "\n",
    "select players.name , players.player_id , players.dob , teams.city from players  left join teams  on teams.team_id = players.team_id\n",
    "where teams.name = 'Rainbow'\n",
    "\n",
    "SELECT p.name, p.player_id, p.dob, t.city\n",
    "FROM players AS p, teams AS t\n",
    "WHERE p.team_id = t.team_id and t.name = 'Rainbow'"
   ]
  },
  {
   "cell_type": "markdown",
   "metadata": {},
   "source": [
    "-- Find the name of the teams which belong to the same city as the team ‘Amigos’.\n",
    "-- (Database: FLIS)\n",
    "\n",
    "select * from teams t1 where t1.city = (select t2.city from teams t2 where t2.name = 'Amigos') and t1.name <> 'Amigos'\n",
    "\n",
    "SELECT t2.name\n",
    "FROM teams AS t1, teams AS t2\n",
    "WHERE t1.name = 'Amigos'\n",
    "AND t2.name <> 'Amigos'\n",
    "AND t1.city = t2.city"
   ]
  },
  {
   "cell_type": "markdown",
   "metadata": {},
   "source": [
    "-- Find the name of the department in which Gita Das is studying\n",
    "\n",
    "select dept_name from student where name = 'Gibbs' "
   ]
  },
  {
   "cell_type": "markdown",
   "metadata": {},
   "source": [
    "-- Find the name of the department in which Gita Das is studying\n",
    "\n",
    "select departments.department_name from students natural join departments \n",
    "where students.student_fname = 'Gita' and students.student_lname= 'Das'"
   ]
  },
  {
   "cell_type": "markdown",
   "metadata": {},
   "source": []
  }
 ],
 "metadata": {
  "kernelspec": {
   "display_name": "pdsa_1",
   "language": "python",
   "name": "python3"
  },
  "language_info": {
   "codemirror_mode": {
    "name": "ipython",
    "version": 3
   },
   "file_extension": ".py",
   "mimetype": "text/x-python",
   "name": "python",
   "nbconvert_exporter": "python",
   "pygments_lexer": "ipython3",
   "version": "3.11.9"
  }
 },
 "nbformat": 4,
 "nbformat_minor": 2
}
