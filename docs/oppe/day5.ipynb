{
 "cells": [
  {
   "cell_type": "markdown",
   "metadata": {},
   "source": [
    "-- Write a SQL statement to find out the dates when one or more copies of the book having\n",
    "-- the title “Learning with Python” has been issued. (Database: LIS)\n",
    "\n",
    "select DISTINCT bi.doi from book_issue bi where bi.accession_no in \n",
    "(select bk.accession_no from book_copies as bk  where bk.isbn_no in \n",
    "(select bck.isbn_no from book_catalogue as bck where bck.title = 'Learning with Python'))\n",
    "\n",
    "SELECT DISTINCT bi.doi\n",
    "FROM book_catalogue AS bkcat\n",
    "INNER JOIN book_copies AS bcp USING (isbn_no)\n",
    "INNER JOIN book_issue AS bi USING (accession_no)\n",
    "WHERE bkcat.title = 'Learning with Python'"
   ]
  },
  {
   "cell_type": "markdown",
   "metadata": {},
   "source": [
    "-- Write a SQL statement to find the name and salary of the instructor(s) having the\n",
    "-- max salary within that department whose avg salary is more than the max salary of\n",
    "-- Psychology dept. (Database: University)\n",
    "-- CTE to find the max salary in the 'Psychology' department\n",
    "with psychology_max as (\n",
    "    select max(salary) as max_psych_salary\n",
    "    from instructor\n",
    "    where dept_name = 'Psychology'\n",
    "),\n",
    "\n",
    "-- CTE to calculate the average salary for each department\n",
    "dept_avg as (\n",
    "    select dept_name, avg(salary) as avg_salary\n",
    "    from instructor\n",
    "    group by dept_name\n",
    "),\n",
    "\n",
    "-- CTE to find the max salary within each department\n",
    "dept_max as (\n",
    "    select dept_name, max(salary) as max_salary\n",
    "    from instructor\n",
    "    group by dept_name\n",
    ")\n",
    "\n",
    "-- Final query to find the instructors\n",
    "select inst.name, inst.salary\n",
    "from instructor inst\n",
    "join dept_avg da on inst.dept_name = da.dept_name\n",
    "join dept_max dm on inst.dept_name = dm.dept_name and inst.salary = dm.max_salary\n",
    "join psychology_max pm on da.avg_salary > pm.max_psych_salary;\n"
   ]
  },
  {
   "cell_type": "markdown",
   "metadata": {},
   "source": [
    "-- Write a SQL statement to find out the number of courses which have been taught in\n",
    "-- Fall semester but never in Spring semester. (Database: University)\n",
    "\n",
    "select count(*) from (select  f1.course_id from section f1 where f1.semester = 'Fall' \n",
    "except (select f2.course_id from section f2 where f2.semester= 'Spring')) as fall_course\n",
    "\n",
    "\n",
    "SELECT COUNT(*)\n",
    "FROM ((SELECT course_id\n",
    "FROM section\n",
    "WHERE semester = 'Fall')\n",
    "EXCEPT\n",
    "(SELECT course_id\n",
    "FROM section\n",
    "WHERE semester = 'Spring')) AS temp_table\n"
   ]
  },
  {
   "cell_type": "markdown",
   "metadata": {},
   "source": [
    "-- Find the names of the fourth referees (fourth referee) and the match number of all\n",
    "-- matches played on “2020-05-19”. (Database: FLIS)\n",
    "\n",
    "\n",
    "with match_re as (select match_num , fourth_referee from match_referees where match_referees.match_num in (\n",
    "select match_num from matches  where match_date = '2020-05-19'))\n",
    "select match_re.match_num , referees.name  from match_re left join referees on match_re.fourth_referee = referees.referee_id\n",
    "\n",
    "SELECT name, match_num\n",
    "FROM referees\n",
    "INNER JOIN match_referees\n",
    "ON referees.referee_id = match_referees.fourth_referee\n",
    "INNER JOIN matches USING (match_num)\n",
    "WHERE match_date = '2020-05-19'"
   ]
  },
  {
   "cell_type": "markdown",
   "metadata": {},
   "source": []
  }
 ],
 "metadata": {
  "language_info": {
   "name": "python"
  }
 },
 "nbformat": 4,
 "nbformat_minor": 2
}
