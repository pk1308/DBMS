{
 "cells": [
  {
   "cell_type": "markdown",
   "metadata": {},
   "source": [
    "Find the first names and last names of authors, having the author’s first name as a single\n",
    "Character. (Database: LIS)"
   ]
  },
  {
   "cell_type": "code",
   "execution_count": 4,
   "metadata": {},
   "outputs": [],
   "source": [
    "query_statement = \"select author_fname , author_lname from book_authors  where author_fname like '_'\"\n",
    "\n",
    "import psycopg2\n",
    "import sys \n",
    "import os \n",
    "\n",
    "database = sys.argv[1]\n",
    "\n",
    "user = os.environ.get('PGUSER' ) \n",
    "\n",
    "\n",
    "password = os.environ.get('PGPASSWORD' ) \n",
    "\n",
    "host = os.environ.get('PGHOST' )\n",
    "\n",
    "port = os.environ.get('PGPORT')\n"
   ]
  },
  {
   "cell_type": "code",
   "execution_count": 5,
   "metadata": {},
   "outputs": [
    {
     "name": "stdout",
     "output_type": "stream",
     "text": [
      "('G', 'KP')\n",
      "('E', 'Balagurusamy')\n",
      "('E', 'Balagurusamy')\n"
     ]
    }
   ],
   "source": [
    "query_statement = \"select author_fname , author_lname from book_authors  where author_fname like '_'\"\n",
    "\n",
    "# try catch \n",
    "try:\n",
    "    # connection \n",
    "    conn  = psycopg2.connect(database = sys.argv[1], user = os.environ.get('PGUSER' ) \n",
    "\n",
    "\n",
    "password = os.environ.get('PGPASSWORD' ) \n",
    "\n",
    "host = os.environ.get('PGHOST' )\n",
    "\n",
    "port = os.environ.get('PGPORT')\n",
    ")\n",
    "    # cur\n",
    "    curr = conn.cursor()\n",
    "    curr.execute(query=query_statement) \n",
    "    result = curr.fetchall()\n",
    "    for data in result:\n",
    "        print(data)\n",
    " \n",
    "except Exception as e :\n",
    "    print(e)\n",
    "finally:\n",
    "    if conn is not None:\n",
    "        conn.close()"
   ]
  },
  {
   "cell_type": "markdown",
   "metadata": {},
   "source": [
    "Find the titles and publishers of all books, except the ones published in year ‘2015’ or\n",
    "‘2017’. (Database: LIS)"
   ]
  },
  {
   "cell_type": "code",
   "execution_count": 8,
   "metadata": {},
   "outputs": [
    {
     "ename": "OperationalError",
     "evalue": "connection to server at \"127.0.0.1\", port 5432 failed: FATAL:  database \"LISss\" does not exist\n",
     "output_type": "error",
     "traceback": [
      "\u001b[0;31m---------------------------------------------------------------------------\u001b[0m",
      "\u001b[0;31mOperationalError\u001b[0m                          Traceback (most recent call last)",
      "Cell \u001b[0;32mIn[8], line 1\u001b[0m\n\u001b[0;32m----> 1\u001b[0m conn  \u001b[38;5;241m=\u001b[39m \u001b[43mpsycopg2\u001b[49m\u001b[38;5;241;43m.\u001b[39;49m\u001b[43mconnect\u001b[49m\u001b[43m(\u001b[49m\u001b[43mdatabase\u001b[49m\u001b[43m \u001b[49m\u001b[38;5;241;43m=\u001b[39;49m\u001b[43m \u001b[49m\u001b[38;5;124;43m\"\u001b[39;49m\u001b[38;5;124;43mLISss\u001b[39;49m\u001b[38;5;124;43m\"\u001b[39;49m\u001b[43m \u001b[49m\u001b[43m,\u001b[49m\u001b[43m \u001b[49m\u001b[43muser\u001b[49m\u001b[43m \u001b[49m\u001b[38;5;241;43m=\u001b[39;49m\u001b[43m \u001b[49m\u001b[43mos\u001b[49m\u001b[38;5;241;43m.\u001b[39;49m\u001b[43menviron\u001b[49m\u001b[38;5;241;43m.\u001b[39;49m\u001b[43mget\u001b[49m\u001b[43m(\u001b[49m\u001b[38;5;124;43m'\u001b[39;49m\u001b[38;5;124;43mPGUSER\u001b[39;49m\u001b[38;5;124;43m'\u001b[39;49m\u001b[43m \u001b[49m\u001b[43m,\u001b[49m\u001b[43m \u001b[49m\u001b[38;5;124;43m\"\u001b[39;49m\u001b[38;5;124;43mmyuser\u001b[39;49m\u001b[38;5;124;43m\"\u001b[39;49m\u001b[43m)\u001b[49m\u001b[43m \u001b[49m\u001b[43m,\u001b[49m\n\u001b[1;32m      2\u001b[0m \u001b[43m                             \u001b[49m\u001b[43mpassword\u001b[49m\u001b[43m \u001b[49m\u001b[38;5;241;43m=\u001b[39;49m\u001b[43m \u001b[49m\u001b[43mos\u001b[49m\u001b[38;5;241;43m.\u001b[39;49m\u001b[43menviron\u001b[49m\u001b[38;5;241;43m.\u001b[39;49m\u001b[43mget\u001b[49m\u001b[43m(\u001b[49m\u001b[38;5;124;43m'\u001b[39;49m\u001b[38;5;124;43mPGPASSWORD\u001b[39;49m\u001b[38;5;124;43m'\u001b[39;49m\u001b[43m \u001b[49m\u001b[43m,\u001b[49m\u001b[43m \u001b[49m\u001b[38;5;124;43m\"\u001b[39;49m\u001b[38;5;124;43mMYPASS\u001b[39;49m\u001b[38;5;124;43m\"\u001b[39;49m\u001b[43m)\u001b[49m\u001b[43m \u001b[49m\u001b[43m,\u001b[49m\n\u001b[1;32m      3\u001b[0m \u001b[43m                             \u001b[49m\u001b[43mhost\u001b[49m\u001b[43m \u001b[49m\u001b[38;5;241;43m=\u001b[39;49m\u001b[43m \u001b[49m\u001b[43mos\u001b[49m\u001b[38;5;241;43m.\u001b[39;49m\u001b[43menviron\u001b[49m\u001b[38;5;241;43m.\u001b[39;49m\u001b[43mget\u001b[49m\u001b[43m(\u001b[49m\u001b[38;5;124;43m'\u001b[39;49m\u001b[38;5;124;43mPGHOST\u001b[39;49m\u001b[38;5;124;43m'\u001b[39;49m\u001b[43m \u001b[49m\u001b[43m,\u001b[49m\u001b[43m \u001b[49m\u001b[38;5;124;43m\"\u001b[39;49m\u001b[38;5;124;43m127.0.0.1\u001b[39;49m\u001b[38;5;124;43m\"\u001b[39;49m\u001b[43m)\u001b[49m\u001b[43m,\u001b[49m\n\u001b[1;32m      4\u001b[0m \u001b[43m                             \u001b[49m\u001b[43mport\u001b[49m\u001b[43m \u001b[49m\u001b[38;5;241;43m=\u001b[39;49m\u001b[43m \u001b[49m\u001b[43mos\u001b[49m\u001b[38;5;241;43m.\u001b[39;49m\u001b[43menviron\u001b[49m\u001b[38;5;241;43m.\u001b[39;49m\u001b[43mget\u001b[49m\u001b[43m(\u001b[49m\u001b[38;5;124;43m'\u001b[39;49m\u001b[38;5;124;43mPGPORT\u001b[39;49m\u001b[38;5;124;43m'\u001b[39;49m\u001b[43m \u001b[49m\u001b[43m,\u001b[49m\u001b[43m \u001b[49m\u001b[38;5;124;43m\"\u001b[39;49m\u001b[38;5;124;43m5432\u001b[39;49m\u001b[38;5;124;43m\"\u001b[39;49m\u001b[43m)\u001b[49m\u001b[43m)\u001b[49m\n",
      "File \u001b[0;32m~/miniconda3/envs/pdsa_1/lib/python3.11/site-packages/psycopg2/__init__.py:122\u001b[0m, in \u001b[0;36mconnect\u001b[0;34m(dsn, connection_factory, cursor_factory, **kwargs)\u001b[0m\n\u001b[1;32m    119\u001b[0m     kwasync[\u001b[38;5;124m'\u001b[39m\u001b[38;5;124masync_\u001b[39m\u001b[38;5;124m'\u001b[39m] \u001b[38;5;241m=\u001b[39m kwargs\u001b[38;5;241m.\u001b[39mpop(\u001b[38;5;124m'\u001b[39m\u001b[38;5;124masync_\u001b[39m\u001b[38;5;124m'\u001b[39m)\n\u001b[1;32m    121\u001b[0m dsn \u001b[38;5;241m=\u001b[39m _ext\u001b[38;5;241m.\u001b[39mmake_dsn(dsn, \u001b[38;5;241m*\u001b[39m\u001b[38;5;241m*\u001b[39mkwargs)\n\u001b[0;32m--> 122\u001b[0m conn \u001b[38;5;241m=\u001b[39m \u001b[43m_connect\u001b[49m\u001b[43m(\u001b[49m\u001b[43mdsn\u001b[49m\u001b[43m,\u001b[49m\u001b[43m \u001b[49m\u001b[43mconnection_factory\u001b[49m\u001b[38;5;241;43m=\u001b[39;49m\u001b[43mconnection_factory\u001b[49m\u001b[43m,\u001b[49m\u001b[43m \u001b[49m\u001b[38;5;241;43m*\u001b[39;49m\u001b[38;5;241;43m*\u001b[39;49m\u001b[43mkwasync\u001b[49m\u001b[43m)\u001b[49m\n\u001b[1;32m    123\u001b[0m \u001b[38;5;28;01mif\u001b[39;00m cursor_factory \u001b[38;5;129;01mis\u001b[39;00m \u001b[38;5;129;01mnot\u001b[39;00m \u001b[38;5;28;01mNone\u001b[39;00m:\n\u001b[1;32m    124\u001b[0m     conn\u001b[38;5;241m.\u001b[39mcursor_factory \u001b[38;5;241m=\u001b[39m cursor_factory\n",
      "\u001b[0;31mOperationalError\u001b[0m: connection to server at \"127.0.0.1\", port 5432 failed: FATAL:  database \"LISss\" does not exist\n"
     ]
    }
   ],
   "source": [
    "# conn  = psycopg2.connect(database = \"LISss\" , user = os.environ.get('PGUSER' , \"myuser\") ,\n",
    "#                              password = os.environ.get('PGPASSWORD' , \"MYPASS\") ,\n",
    "#                              host = os.environ.get('PGHOST' , \"127.0.0.1\"),\n",
    "#                              port = os.environ.get('PGPORT' , \"5432\"))\n"
   ]
  },
  {
   "cell_type": "code",
   "execution_count": 11,
   "metadata": {},
   "outputs": [
    {
     "name": "stdout",
     "output_type": "stream",
     "text": [
      "('Advanced Database Management System', 'Dreamtech Press')\n",
      "('Database Management System Oracle SQL', 'Prentice Hall India Learning Private Limited')\n",
      "('Handbook of Computer Science & IT', 'G.K. Pub')\n",
      "('Computer Science Textbook For Class 11', 'NCERT')\n",
      "('Computing Fundamentals and C Programming', 'McGraw Hill Education')\n",
      "('Programming in ANSI C', 'McGraw Hill Education')\n",
      "('Clean Code', 'Pearson Education')\n",
      "('The C++ Programming Language', 'Pearson Education India')\n",
      "('Blockchain for Dummies', 'Wiley')\n",
      "('Artificial Intelligence For Dummies', 'Wiley')\n",
      "('Let us C++', 'BPB Publications')\n",
      "('Coding For Beginners In Easy Steps', 'BPB')\n",
      "('Excel Vba In Easy Steps', 'BPB')\n",
      "('Basic Computation and Programming with C', 'Cambridge University Press')\n"
     ]
    }
   ],
   "source": [
    "query_statement = 'select title , publisher from book_catalogue where year not in (2015,2016)'\n",
    "# try catch \n",
    "try:\n",
    "    # connection \n",
    "    conn  = psycopg2.connect(database = \"LIS\" , user = os.environ.get('PGUSER' , \"myuser\") ,\n",
    "                             password = os.environ.get('PGPASSWORD' , \"MYPASS\") ,\n",
    "                             host = os.environ.get('PGHOST' , \"127.0.0.1\"),\n",
    "                             port = os.environ.get('PGPORT' , \"5432\"))\n",
    "    # cur\n",
    "    curr = conn.cursor()\n",
    "    curr.execute(query=query_statement) \n",
    "    result = curr.fetchall()\n",
    "    for data in result:\n",
    "        print(data)\n",
    " \n",
    "except Exception as e :\n",
    "    print(e)\n",
    "finally:\n",
    "    if conn is not None:\n",
    "        conn.close()"
   ]
  },
  {
   "cell_type": "markdown",
   "metadata": {},
   "source": [
    "Find the first names and last names of the students whose birthday is in May 2002 or\n",
    "in May 2003. (Database: LIS)"
   ]
  },
  {
   "cell_type": "code",
   "execution_count": 14,
   "metadata": {},
   "outputs": [
    {
     "name": "stdout",
     "output_type": "stream",
     "text": [
      "('Vikas', 'Das', datetime.date(2002, 5, 9))\n",
      "('Pushpa', 'Das', datetime.date(2003, 5, 2))\n",
      "('Ramesh', 'Samant', datetime.date(2003, 5, 10))\n",
      "('Raju', 'Kumar', datetime.date(2002, 5, 17))\n"
     ]
    }
   ],
   "source": [
    "query_statement = \"select student_fname , student_lname , dob from students  where (dob between '2002-05-01' and  '2002-05-30') or (dob between '2003-05-01' and  '2003-05-30')\"\n",
    "\n",
    "# try catch \n",
    "try:\n",
    "    # connection \n",
    "    conn  = psycopg2.connect(database = \"LIS\" , user = os.environ.get('PGUSER' , \"myuser\") ,\n",
    "                             password = os.environ.get('PGPASSWORD' , \"MYPASS\") ,\n",
    "                             host = os.environ.get('PGHOST' , \"127.0.0.1\"),\n",
    "                             port = os.environ.get('PGPORT' , \"5432\"))\n",
    "    # cur\n",
    "    curr = conn.cursor()\n",
    "    curr.execute(query=query_statement) \n",
    "    result = curr.fetchall()\n",
    "    for data in result:\n",
    "        print(data)\n",
    " \n",
    "except Exception as e :\n",
    "    print(e)\n",
    "finally:\n",
    "    if conn is not None:\n",
    "        conn.close()"
   ]
  },
  {
   "cell_type": "code",
   "execution_count": 17,
   "metadata": {},
   "outputs": [
    {
     "data": {
      "text/plain": [
       "2002"
      ]
     },
     "execution_count": 17,
     "metadata": {},
     "output_type": "execute_result"
    }
   ],
   "source": [
    "result[0][-1].year"
   ]
  },
  {
   "cell_type": "code",
   "execution_count": 13,
   "metadata": {},
   "outputs": [
    {
     "name": "stdout",
     "output_type": "stream",
     "text": [
      "('Vikas', 'Das')\n",
      "('Pushpa', 'Das')\n",
      "('Ramesh', 'Samant')\n",
      "('Raju', 'Kumar')\n"
     ]
    }
   ],
   "source": [
    "query_statement = \"select student_fname , student_lname from students where  extract( Month from  dob) = 5  and extract( YEAR FROM dob) in (2002 , 2003);\"\n",
    "\n",
    "# try catch \n",
    "try:\n",
    "    # connection \n",
    "    conn  = psycopg2.connect(database = \"LIS\" , user = os.environ.get('PGUSER' , \"myuser\") ,\n",
    "                             password = os.environ.get('PGPASSWORD' , \"MYPASS\") ,\n",
    "                             host = os.environ.get('PGHOST' , \"127.0.0.1\"),\n",
    "                             port = os.environ.get('PGPORT' , \"5432\"))\n",
    "    # cur\n",
    "    curr = conn.cursor()\n",
    "    curr.execute(query=query_statement) \n",
    "    result = curr.fetchall()\n",
    "    for data in result:\n",
    "        print(data)\n",
    " \n",
    "except Exception as e :\n",
    "    print(e)\n",
    "finally:\n",
    "    if conn is not None:\n",
    "        conn.close()"
   ]
  },
  {
   "cell_type": "code",
   "execution_count": 24,
   "metadata": {},
   "outputs": [
    {
     "name": "stdout",
     "output_type": "stream",
     "text": [
      "52\n",
      "('Vikas', 'Das', datetime.date(2002, 5, 9))\n",
      "('Pushpa', 'Das', datetime.date(2003, 5, 2))\n",
      "('Ramesh', 'Samant', datetime.date(2003, 5, 10))\n",
      "('Raju', 'Kumar', datetime.date(2002, 5, 17))\n"
     ]
    }
   ],
   "source": [
    "query_statement = \"select student_fname , student_lname , dob from students \"\n",
    "\n",
    "# try catch \n",
    "try:\n",
    "    # connection \n",
    "    conn  = psycopg2.connect(database = \"LIS\" , user = os.environ.get('PGUSER' , \"myuser\") ,\n",
    "                             password = os.environ.get('PGPASSWORD' , \"MYPASS\") ,\n",
    "                             host = os.environ.get('PGHOST' , \"127.0.0.1\"),\n",
    "                             port = os.environ.get('PGPORT' , \"5432\"))\n",
    "    # cur\n",
    "    curr = conn.cursor()\n",
    "    curr.execute(query=query_statement) \n",
    "    result = curr.fetchall()\n",
    "    print(len(result))\n",
    "    # print(result)\n",
    "    for data in result:\n",
    "        if data[-1].year in (2002 , 2003) and data[-1].month == 5:\n",
    "            print(data)\n",
    " \n",
    "except Exception as e :\n",
    "    print(e)\n",
    "finally:\n",
    "    if conn is not None:\n",
    "        conn.close()"
   ]
  },
  {
   "cell_type": "markdown",
   "metadata": {},
   "source": [
    "Find out the total number of members in the UG with alias name or column header as\n",
    "‘total member’. (Database: LIS)"
   ]
  },
  {
   "cell_type": "code",
   "execution_count": 29,
   "metadata": {},
   "outputs": [
    {
     "name": "stdout",
     "output_type": "stream",
     "text": [
      "(42,)\n"
     ]
    }
   ],
   "source": [
    "query_statement = \"select count(*) as total_member  from members where member_type = 'UG';\"\n",
    "try:\n",
    "    # connection \n",
    "    conn  = psycopg2.connect(database = \"LIS\" , user = os.environ.get('PGUSER' , \"myuser\") ,\n",
    "                             password = os.environ.get('PGPASSWORD' , \"MYPASS\") ,\n",
    "                             host = os.environ.get('PGHOST' , \"127.0.0.1\"),\n",
    "                             port = os.environ.get('PGPORT' , \"5432\"))\n",
    "    # cur\n",
    "    curr = conn.cursor()\n",
    "    curr.execute(query=query_statement) \n",
    "    result = curr.fetchall()\n",
    "\n",
    "    for data in result:\n",
    "        print(data)\n",
    " \n",
    "except Exception as e :\n",
    "    print(e)\n",
    "finally:\n",
    "    if conn is not None:\n",
    "        conn.close()"
   ]
  },
  {
   "cell_type": "markdown",
   "metadata": {},
   "source": [
    "Find out the number of female students in each department. (Database: LIS)"
   ]
  },
  {
   "cell_type": "code",
   "execution_count": 30,
   "metadata": {},
   "outputs": [
    {
     "name": "stdout",
     "output_type": "stream",
     "text": [
      "('CS', 9)\n",
      "('EE', 2)\n",
      "('MCA', 4)\n",
      "('ME', 3)\n"
     ]
    }
   ],
   "source": [
    "query_statement = \"select department_code , count(*) from students where gender = 'F' group by department_code ;\"\n",
    "\n",
    "try:\n",
    "    # connection \n",
    "    conn  = psycopg2.connect(database = \"LIS\" , user = os.environ.get('PGUSER' , \"myuser\") ,\n",
    "                             password = os.environ.get('PGPASSWORD' , \"MYPASS\") ,\n",
    "                             host = os.environ.get('PGHOST' , \"127.0.0.1\"),\n",
    "                             port = os.environ.get('PGPORT' , \"5432\"))\n",
    "    # cur\n",
    "    curr = conn.cursor()\n",
    "    curr.execute(query=query_statement) \n",
    "    result = curr.fetchall()\n",
    "\n",
    "    for data in result:\n",
    "        print(data)\n",
    " \n",
    "except Exception as e :\n",
    "    print(e)\n",
    "finally:\n",
    "    if conn is not None:\n",
    "        conn.close()"
   ]
  }
 ],
 "metadata": {
  "kernelspec": {
   "display_name": "pdsa_1",
   "language": "python",
   "name": "python3"
  },
  "language_info": {
   "codemirror_mode": {
    "name": "ipython",
    "version": 3
   },
   "file_extension": ".py",
   "mimetype": "text/x-python",
   "name": "python",
   "nbconvert_exporter": "python",
   "pygments_lexer": "ipython3",
   "version": "3.11.9"
  }
 },
 "nbformat": 4,
 "nbformat_minor": 2
}
