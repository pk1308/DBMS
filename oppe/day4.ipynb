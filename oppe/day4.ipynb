{
 "cells": [
  {
   "cell_type": "markdown",
   "metadata": {},
   "source": [
    "-- Find the roll number of all male students, having their department building in ‘Block 2’.\n",
    "-- (Database: LIS)\n",
    "\n",
    "select students.roll_no from students \n",
    "\tnatural join departments\n",
    "\t\twhere students.gender = 'M' and departments.department_building = 'Block_2'"
   ]
  },
  {
   "cell_type": "markdown",
   "metadata": {},
   "source": [
    "-- Find the first name, last name and the roll number of students having their department\n",
    "-- building in ‘Block 1’. (Database: LIS)\n",
    "\n",
    "select student_fname , student_lname , roll_no from students \n",
    "\tnatural join departments\n",
    "\t\twhere department_building = 'Block_1'"
   ]
  },
  {
   "cell_type": "markdown",
   "metadata": {},
   "source": [
    "-- Find out the details of the members who have not issued any books. (Database: LIS)\n",
    "\n",
    "select * from members left join book_issue on members.member_no = book_issue.member_no where book_issue  is null\n",
    "\n",
    "SELECT * FROM members\n",
    "WHERE NOT EXISTS (SELECT *\n",
    "FROM book_issue\n",
    "WHERE members.member_no = book_issue.member_no)"
   ]
  },
  {
   "cell_type": "markdown",
   "metadata": {},
   "source": [
    "-- Find out the name of courses which have been taught in both Fall semester and Spring\n",
    "-- semester. (Database: University)\n",
    "\n",
    "\n",
    "\n",
    "\n",
    "SELECT title\n",
    "FROM course \n",
    "WHERE course_id IN ((SELECT course_id\n",
    "FROM section\n",
    "WHERE semester = 'Fall')\n",
    "INTERSECT\n",
    "(SELECT course_id\n",
    "FROM section\n",
    "WHERE semester = 'Spring'))"
   ]
  },
  {
   "cell_type": "markdown",
   "metadata": {},
   "source": [
    "-- Write a SQL statement to find out the number of students who have studied in each\n",
    "-- building from 2005 till 2008 (including 2005,2008). (Database: University)\n",
    "\n",
    "select section.building , count(distinct takes.id) from takes  natural join section where takes.year between 2004 and 2009 group by section.building \n",
    "\n",
    "SELECT COUNT(DISTINCT st.id), building\n",
    "FROM section AS se, takes AS t, student AS st\n",
    "WHERE st.id = t.id\n",
    "AND t.course_id = se.course_id\n",
    "AND t.sec_id = se.sec_id\n",
    "AND t.semester = se.semester\n",
    "AND t.year = se.year\n",
    "AND (t.year >= 2005 AND t.year <= 2008)\n",
    "GROUP BY building"
   ]
  },
  {
   "cell_type": "markdown",
   "metadata": {},
   "source": []
  }
 ],
 "metadata": {
  "language_info": {
   "name": "python"
  }
 },
 "nbformat": 4,
 "nbformat_minor": 2
}
