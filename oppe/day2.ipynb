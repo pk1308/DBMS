{
 "cells": [
  {
   "cell_type": "markdown",
   "metadata": {},
   "source": [
    "-- Find the names and date-of-births of those managers who have joined in years 2019 and\n",
    "-- 2020. (Database: FLIS)\n",
    "select name , dob from managers  where extract( year from since) in (2019, 2020)\n",
    "\n",
    "SELECT name, dob\n",
    "FROM managers\n",
    "WHERE since BETWEEN '2019-01-01' AND '2020-12-31'\n",
    "\n",
    "-- Find the names of all those teams where the last name of the team starts with the letter\n",
    "-- S. Use the name attribute of the teams table to answer this question. (Database: FLIS)\n",
    "\n",
    "SELECT *  from teams where name like '%_ S%'\n",
    "-- Write a SQL statement to find the names of players that start with ‘S’ but does not end\n",
    "-- with ‘n’. (Database: FLIS)\n",
    "\n",
    "select * from players where name like 'S%' and name not like '%_n'\n",
    "\n",
    "-- SELECT name\n",
    "-- FROM players\n",
    "-- WHERE name LIKE 'S%'\n",
    "-- EXCEPT\n",
    "-- SELECT name\n",
    "-- FROM players\n",
    "-- WHERE name LIKE '%n'\n",
    "\n",
    "-- Find out the total number of players who are playing from the team id ‘T0001’. (Database:\n",
    "-- FLIS)\n",
    "\n",
    "select count(*) from players where team_id = 'T0001'\n",
    "\n",
    "SELECT COUNT(player_id)\n",
    "FROM players\n",
    "GROUP BY team_id\n",
    "HAVING team_id = 'T0001'\n",
    "\n",
    "-- Print the name, dept name, salary of instructors department wise, where the department\n",
    "-- name should be sorted in descending order and within each department, the instructor\n",
    "-- names should be sorted in ascending order of salary within that department. (Database:\n",
    "-- University\n",
    "\n",
    "select name , dept_name , salary from instructor order by dept_name desc , salary asc\n",
    "\n"
   ]
  },
  {
   "cell_type": "markdown",
   "metadata": {},
   "source": []
  }
 ],
 "metadata": {
  "kernelspec": {
   "display_name": "pdsa_1",
   "language": "python",
   "name": "python3"
  },
  "language_info": {
   "name": "python",
   "version": "3.11.9"
  }
 },
 "nbformat": 4,
 "nbformat_minor": 2
}
