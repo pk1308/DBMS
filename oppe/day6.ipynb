{
 "cells": [
  {
   "cell_type": "markdown",
   "metadata": {},
   "source": [
    "-- Write a SQL statement to find out the names of research scholars (RS) who have not issued any books.  (Database:  LIS)\n",
    "\n",
    "select students.student_fname from members inner join students on \n",
    "members.roll_no = students.roll_no where members.member_type = 'PG' and members.member_no not in \n",
    "(select book_issue.member_no from book_issue )\n",
    "\n",
    "\n",
    "\n",
    "select student_fname from members inner join students on \n",
    "members.roll_no = students.roll_no  left join book_issue on members.member_no = book_issue.member_no \n",
    "where members.member_type = 'PG' and book_issue.doi is null\n",
    "\n",
    "select * from members where member_type = 'PG'\n",
    "\n",
    "\n",
    "SELECT student_fname, student_lname FROM students WHERE roll_no in \n",
    "(SELECT roll_no FROM members WHERE member_no IN\n",
    "((SELECT member_no FROM members WHERE member_type = 'PG')EXCEPT(SELECT DISTINCT member_no FROM book_issue)))"
   ]
  },
  {
   "cell_type": "markdown",
   "metadata": {},
   "source": [
    " -- Write a SQL statement to find out the name of the oldest player from the team named“All Stars”.  (Database:  FLIS)\n",
    "\n",
    " select * from players inner join teams on teams.team_id = players.team_id  where teams.name = 'All Stars' and players.dob in\n",
    "\n",
    "  (select min(players.dob) from players inner join teams on teams.team_id = players.team_id  where teams.name = 'All Stars')\n",
    "\n",
    "  select players.name from players where dob =(select max(players.dob) from players inner join teams on \n",
    "players.team_id=teams.team_id where teams.name='All Stars')\n",
    "\n",
    "SELECT players.name FROM players WHERE players.dob = \n",
    "(SELECT MIN(pl.dob)FROM players pl, teams te WHERE te.team_id = pl.team_id AND te.name = 'All Stars')"
   ]
  },
  {
   "cell_type": "markdown",
   "metadata": {},
   "source": [
    "-- Write an SQL statement to find the unique book titles which are issued to “PG” students but not to “UG” students.(Database:  LIS)\n",
    "\n",
    "select distinct title from book_catalogue where isbn_no in(\n",
    "\n",
    "(select book_copies.isbn_no from book_copies where book_copies.accession_no in (\n",
    "select  book_issue.accession_no from members inner join book_issue on book_issue.member_no = members.member_no \n",
    "where members.member_type = 'PG')) except \n",
    "\n",
    "(select book_copies.isbn_no from book_copies where book_copies.accession_no in (\n",
    "select  book_issue.accession_no from members inner join book_issue on book_issue.member_no = members.member_no \n",
    "where members.member_type = 'UG')))\n",
    "\n",
    "\n",
    "SELECT DISTINCT title FROM book_catalogue WHERE isbn_no IN (    SELECT isbn_no     FROM book_copies     WHERE accession_no IN (\n",
    "        SELECT book_issue.accession_no         FROM members         INNER JOIN book_issue ON book_issue.member_no = members.member_no \n",
    "\t\t        WHERE members.member_type = 'PG'    )     AND isbn_no NOT IN (        SELECT isbn_no         FROM book_copies \n",
    "\t\t\t\tWHERE accession_no IN (            SELECT book_issue.accession_no             FROM members             \n",
    "\t\t\t\tINNER JOIN book_issue ON book_issue.member_no = members.member_no \n",
    "            WHERE members.member_type = 'UG'    )    ));"
   ]
  },
  {
   "cell_type": "code",
   "execution_count": null,
   "metadata": {
    "vscode": {
     "languageId": "plaintext"
    }
   },
   "outputs": [],
   "source": [
    "import os \n",
    "import sys \n",
    "\n",
    "import psycopg2\n",
    "\n",
    "database = sys.argv[1]\t\n",
    "\n",
    "user = os.environ.get('PGUSER') \n",
    "\n",
    "password = os.environ.get('PGPASSWORD') \n",
    "\n",
    "host = os.environ.get('PGHOST')\n",
    "\n",
    "port = os.environ.get('PGPORT')\n",
    "\n",
    "def is_prime(n):\n",
    "    if n <= 1:\n",
    "        return False\n",
    "    if n == 2:\n",
    "        return True\n",
    "    for i in range(2, int(n**0.5) + 1):\n",
    "        if n % i == 0:\n",
    "            return False\n",
    "    return True\n",
    "\n",
    "def connectDb(database = database, username= user, pwd = password, \n",
    "              address= host, portnum= port):\n",
    "    conn = None\n",
    "    try:\n",
    "        # connect to the PostgreSQL database\n",
    "        conn = psycopg2.connect(database=database, user=username, \n",
    "                              password=pwd, host=address, port=portnum)\n",
    "        curr = conn.cursor()\n",
    "        \n",
    "        curr.execute(\"select p.name , t.name , p.jersey_no FROM  players p left join  teams t  \n",
    "        on t.team_id = p.team_id order by p.name , t.name  desc\")\n",
    "        data = curr.fetchall()\n",
    "        prime_players = [(row[0], row[1]) for row in data if is_prime(row[2])]\n",
    "      \n",
    "         # Sort players by name and team in reverse alphabetical order\n",
    "        prime_players.sort(key=lambda x: (x[0], x[1]), reverse=True)\n",
    "      \n",
    "        # Print the sorted list\n",
    "        for player in prime_players:\n",
    "            print(f\"{player[0]}, {player[1]}\")\n",
    "    except (Exception, psycopg2.DatabaseError) as error:\n",
    "        print(error)\n",
    "    finally:\n",
    "        conn.close()\n",
    "# close the connection\n",
    "connectDb()"
   ]
  }
 ],
 "metadata": {
  "language_info": {
   "name": "python"
  }
 },
 "nbformat": 4,
 "nbformat_minor": 2
}
